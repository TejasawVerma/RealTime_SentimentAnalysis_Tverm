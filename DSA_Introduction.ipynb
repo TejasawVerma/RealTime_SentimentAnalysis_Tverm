{
  "nbformat": 4,
  "nbformat_minor": 0,
  "metadata": {
    "colab": {
      "provenance": [],
      "authorship_tag": "ABX9TyMU79jn1D0QIoeX3gpJkZvW",
      "include_colab_link": true
    },
    "kernelspec": {
      "name": "python3",
      "display_name": "Python 3"
    },
    "language_info": {
      "name": "python"
    }
  },
  "cells": [
    {
      "cell_type": "markdown",
      "metadata": {
        "id": "view-in-github",
        "colab_type": "text"
      },
      "source": [
        "<a href=\"https://colab.research.google.com/github/TejasawVerma/RealTime_SentimentAnalysis_Tverm/blob/main/DSA_Introduction.ipynb\" target=\"_parent\"><img src=\"https://colab.research.google.com/assets/colab-badge.svg\" alt=\"Open In Colab\"/></a>"
      ]
    },
    {
      "cell_type": "markdown",
      "source": [
        "**Introduction to Data Structures and Algortihms.**\n",
        "\n",
        "**Data Structure :** A data structure is a way to store data.\n",
        "\n",
        "**Algorithms :** An algorithm is a set of step-by-step instructions to solve a given problem or achieve a specific goal.\n",
        "\n",
        "\n",
        "\n"
      ],
      "metadata": {
        "id": "xH1jWUm-NeOP"
      }
    },
    {
      "cell_type": "code",
      "source": [],
      "metadata": {
        "id": "20kCnfn4NL6c"
      },
      "execution_count": null,
      "outputs": []
    }
  ]
}